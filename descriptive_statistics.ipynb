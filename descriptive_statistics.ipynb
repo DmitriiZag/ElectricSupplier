{
 "cells": [
  {
   "metadata": {},
   "cell_type": "markdown",
   "source": "# Global consumer electronic brand sales analysis",
   "id": "9714d8ec3a2c48ca"
  },
  {
   "metadata": {},
   "cell_type": "markdown",
   "source": "## Importing libraries and data",
   "id": "758b9b96863ca718"
  },
  {
   "metadata": {},
   "cell_type": "markdown",
   "source": "During this step, we import the necessary libraries and load the data required for further analysis. \n",
   "id": "cfc973079724e321"
  },
  {
   "metadata": {
    "ExecuteTime": {
     "end_time": "2025-03-26T17:14:14.985504Z",
     "start_time": "2025-03-26T17:14:14.711658Z"
    }
   },
   "cell_type": "code",
   "source": [
    "import datetime\n",
    "\n",
    "import matplotlib.pyplot as plt\n",
    "import pandas as pd\n",
    "import numpy as np\n",
    "from sqlalchemy import create_engine, MetaData, Table, ForeignKey\n",
    "from sqlalchemy import Column, Integer, String, inspect, Float, Date, join, select\n",
    "import os\n",
    "import plotly.graph_objs as go \n",
    "from plotly.offline import init_notebook_mode,iplot\n",
    "import seaborn as sns\n",
    "import matplotlib.pyplot as plt\n",
    "from matplotlib.ticker import FuncFormatter\n",
    "init_notebook_mode(connected=True) "
   ],
   "id": "9b377da7c2e120d0",
   "outputs": [
    {
     "data": {
      "text/html": [
       "        <script type=\"text/javascript\">\n",
       "        window.PlotlyConfig = {MathJaxConfig: 'local'};\n",
       "        if (window.MathJax && window.MathJax.Hub && window.MathJax.Hub.Config) {window.MathJax.Hub.Config({SVG: {font: \"STIX-Web\"}});}\n",
       "        if (typeof require !== 'undefined') {\n",
       "        require.undef(\"plotly\");\n",
       "        requirejs.config({\n",
       "            paths: {\n",
       "                'plotly': ['https://cdn.plot.ly/plotly-2.12.1.min']\n",
       "            }\n",
       "        });\n",
       "        require(['plotly'], function(Plotly) {\n",
       "            window._Plotly = Plotly;\n",
       "        });\n",
       "        }\n",
       "        </script>\n",
       "        "
      ]
     },
     "metadata": {},
     "output_type": "display_data"
    }
   ],
   "execution_count": 3
  },
  {
   "metadata": {
    "ExecuteTime": {
     "end_time": "2025-03-26T17:15:25.817052Z",
     "start_time": "2025-03-26T17:15:25.784535Z"
    }
   },
   "cell_type": "code",
   "source": [
    "engine = create_engine(\"sqlite:///database/my_database.db\")\n",
    "metadata = MetaData(bind=engine)"
   ],
   "id": "5b04bc402bef4f59",
   "outputs": [],
   "execution_count": 4
  },
  {
   "metadata": {},
   "cell_type": "markdown",
   "source": "## Descriptive Statistics\n",
   "id": "fa458cc50244aca6"
  },
  {
   "metadata": {},
   "cell_type": "markdown",
   "source": "This section offers a comprehensive overview of the dataset, including key descriptive statistics for the variables.\n",
   "id": "586751bf7daae77"
  },
  {
   "metadata": {},
   "cell_type": "markdown",
   "source": "### Sales Dataset",
   "id": "261c51f7ba4622aa"
  },
  {
   "metadata": {
    "ExecuteTime": {
     "end_time": "2025-03-26T17:17:43.003173Z",
     "start_time": "2025-03-26T17:17:42.559899Z"
    }
   },
   "cell_type": "code",
   "outputs": [],
   "execution_count": 6,
   "source": "sales_df = pd.read_sql('''SELECT * FROM sales;''', engine)",
   "id": "621fd34ab878b6d6"
  },
  {
   "metadata": {
    "ExecuteTime": {
     "end_time": "2025-03-26T17:24:27.654263Z",
     "start_time": "2025-03-26T17:24:27.641580Z"
    }
   },
   "cell_type": "code",
   "source": "sales_df['Order Date'].min()",
   "id": "a0e0c0832d146393",
   "outputs": [
    {
     "data": {
      "text/plain": [
       "'2016-01-01 00:00:00.000000'"
      ]
     },
     "execution_count": 19,
     "metadata": {},
     "output_type": "execute_result"
    }
   ],
   "execution_count": 19
  },
  {
   "metadata": {
    "ExecuteTime": {
     "end_time": "2025-03-26T17:24:36.384571Z",
     "start_time": "2025-03-26T17:24:36.368242Z"
    }
   },
   "cell_type": "code",
   "source": "sales_df['Order Date'].max()",
   "id": "11d9d3e1737d9545",
   "outputs": [
    {
     "data": {
      "text/plain": [
       "'2021-02-20 00:00:00.000000'"
      ]
     },
     "execution_count": 21,
     "metadata": {},
     "output_type": "execute_result"
    }
   ],
   "execution_count": 21
  },
  {
   "metadata": {},
   "cell_type": "markdown",
   "source": "The dataset spans nearly five years, from January 1, 2016, to February 2021.",
   "id": "4ea82002c340004e"
  },
  {
   "metadata": {
    "ExecuteTime": {
     "end_time": "2025-03-26T17:35:19.022153Z",
     "start_time": "2025-03-26T17:35:18.989340Z"
    }
   },
   "cell_type": "code",
   "source": "sales_df.value_counts('Currency Code', normalize=True).reset_index().rename(columns={0: 'Percentage'})",
   "id": "47ef2497b60e5af1",
   "outputs": [
    {
     "data": {
      "text/plain": [
       "  Currency Code  Percentage\n",
       "0           USD    0.536973\n",
       "1           EUR    0.200703\n",
       "2           GBP    0.129445\n",
       "3           CAD    0.086111\n",
       "4           AUD    0.046769"
      ],
      "text/html": [
       "<div>\n",
       "<style scoped>\n",
       "    .dataframe tbody tr th:only-of-type {\n",
       "        vertical-align: middle;\n",
       "    }\n",
       "\n",
       "    .dataframe tbody tr th {\n",
       "        vertical-align: top;\n",
       "    }\n",
       "\n",
       "    .dataframe thead th {\n",
       "        text-align: right;\n",
       "    }\n",
       "</style>\n",
       "<table border=\"1\" class=\"dataframe\">\n",
       "  <thead>\n",
       "    <tr style=\"text-align: right;\">\n",
       "      <th></th>\n",
       "      <th>Currency Code</th>\n",
       "      <th>Percentage</th>\n",
       "    </tr>\n",
       "  </thead>\n",
       "  <tbody>\n",
       "    <tr>\n",
       "      <th>0</th>\n",
       "      <td>USD</td>\n",
       "      <td>0.536973</td>\n",
       "    </tr>\n",
       "    <tr>\n",
       "      <th>1</th>\n",
       "      <td>EUR</td>\n",
       "      <td>0.200703</td>\n",
       "    </tr>\n",
       "    <tr>\n",
       "      <th>2</th>\n",
       "      <td>GBP</td>\n",
       "      <td>0.129445</td>\n",
       "    </tr>\n",
       "    <tr>\n",
       "      <th>3</th>\n",
       "      <td>CAD</td>\n",
       "      <td>0.086111</td>\n",
       "    </tr>\n",
       "    <tr>\n",
       "      <th>4</th>\n",
       "      <td>AUD</td>\n",
       "      <td>0.046769</td>\n",
       "    </tr>\n",
       "  </tbody>\n",
       "</table>\n",
       "</div>"
      ]
     },
     "execution_count": 34,
     "metadata": {},
     "output_type": "execute_result"
    }
   ],
   "execution_count": 34
  },
  {
   "metadata": {},
   "cell_type": "markdown",
   "source": "The company supports five currencies: USD, EUR, GBP, CAD, and AUD. The US dollar is the most commonly used, making up approximately 53% of all sales, while the Euro accounts for around 20%.",
   "id": "144dda31d52d01d6"
  },
  {
   "metadata": {
    "ExecuteTime": {
     "end_time": "2025-03-26T17:38:48.674282Z",
     "start_time": "2025-03-26T17:38:48.641665Z"
    }
   },
   "cell_type": "code",
   "source": "sales_df['Quantity'].describe()",
   "id": "69c960d7a9ac2aa3",
   "outputs": [
    {
     "data": {
      "text/plain": [
       "count    62884.000000\n",
       "mean         3.144790\n",
       "std          2.256371\n",
       "min          1.000000\n",
       "25%          1.000000\n",
       "50%          2.000000\n",
       "75%          4.000000\n",
       "max         10.000000\n",
       "Name: Quantity, dtype: float64"
      ]
     },
     "execution_count": 35,
     "metadata": {},
     "output_type": "execute_result"
    }
   ],
   "execution_count": 35
  },
  {
   "metadata": {},
   "cell_type": "markdown",
   "source": "The number of items per order ranges from 1 to 10, with an average purchase quantity of 3.",
   "id": "d1fd768a1843eb8"
  },
  {
   "metadata": {},
   "cell_type": "markdown",
   "source": "### Stores Dataset",
   "id": "61058c32202e2d5a"
  },
  {
   "metadata": {
    "ExecuteTime": {
     "end_time": "2025-03-26T17:45:24.952541Z",
     "start_time": "2025-03-26T17:45:24.925961Z"
    }
   },
   "cell_type": "code",
   "source": "stores_df = pd.read_sql('''SELECT * FROM stores;''', engine)",
   "id": "b3a31cd62b99486d",
   "outputs": [],
   "execution_count": 38
  },
  {
   "metadata": {
    "ExecuteTime": {
     "end_time": "2025-03-26T17:51:24.033905Z",
     "start_time": "2025-03-26T17:51:24.026908Z"
    }
   },
   "cell_type": "code",
   "outputs": [
    {
     "data": {
      "text/plain": [
       "          Country  Count\n",
       "0   United States     24\n",
       "1         Germany      9\n",
       "2          France      7\n",
       "3  United Kingdom      7\n",
       "4       Australia      6\n",
       "5          Canada      5\n",
       "6     Netherlands      5\n",
       "7           Italy      3"
      ],
      "text/html": [
       "<div>\n",
       "<style scoped>\n",
       "    .dataframe tbody tr th:only-of-type {\n",
       "        vertical-align: middle;\n",
       "    }\n",
       "\n",
       "    .dataframe tbody tr th {\n",
       "        vertical-align: top;\n",
       "    }\n",
       "\n",
       "    .dataframe thead th {\n",
       "        text-align: right;\n",
       "    }\n",
       "</style>\n",
       "<table border=\"1\" class=\"dataframe\">\n",
       "  <thead>\n",
       "    <tr style=\"text-align: right;\">\n",
       "      <th></th>\n",
       "      <th>Country</th>\n",
       "      <th>Count</th>\n",
       "    </tr>\n",
       "  </thead>\n",
       "  <tbody>\n",
       "    <tr>\n",
       "      <th>0</th>\n",
       "      <td>United States</td>\n",
       "      <td>24</td>\n",
       "    </tr>\n",
       "    <tr>\n",
       "      <th>1</th>\n",
       "      <td>Germany</td>\n",
       "      <td>9</td>\n",
       "    </tr>\n",
       "    <tr>\n",
       "      <th>2</th>\n",
       "      <td>France</td>\n",
       "      <td>7</td>\n",
       "    </tr>\n",
       "    <tr>\n",
       "      <th>3</th>\n",
       "      <td>United Kingdom</td>\n",
       "      <td>7</td>\n",
       "    </tr>\n",
       "    <tr>\n",
       "      <th>4</th>\n",
       "      <td>Australia</td>\n",
       "      <td>6</td>\n",
       "    </tr>\n",
       "    <tr>\n",
       "      <th>5</th>\n",
       "      <td>Canada</td>\n",
       "      <td>5</td>\n",
       "    </tr>\n",
       "    <tr>\n",
       "      <th>6</th>\n",
       "      <td>Netherlands</td>\n",
       "      <td>5</td>\n",
       "    </tr>\n",
       "    <tr>\n",
       "      <th>7</th>\n",
       "      <td>Italy</td>\n",
       "      <td>3</td>\n",
       "    </tr>\n",
       "  </tbody>\n",
       "</table>\n",
       "</div>"
      ]
     },
     "execution_count": 49,
     "metadata": {},
     "output_type": "execute_result"
    }
   ],
   "execution_count": 49,
   "source": "stores_df.value_counts('Country').reset_index().rename(columns={0: 'Count'})",
   "id": "38b007529b6c223e"
  },
  {
   "metadata": {
    "ExecuteTime": {
     "end_time": "2025-03-26T17:54:30.329906Z",
     "start_time": "2025-03-26T17:54:30.322427Z"
    }
   },
   "cell_type": "code",
   "source": "stores_df.value_counts('Country').reset_index().rename(columns={0: 'Count'})['Count'].sum()\n",
   "id": "87cb280f09454b7",
   "outputs": [
    {
     "data": {
      "text/plain": [
       "66"
      ]
     },
     "execution_count": 53,
     "metadata": {},
     "output_type": "execute_result"
    }
   ],
   "execution_count": 53
  },
  {
   "metadata": {
    "ExecuteTime": {
     "end_time": "2025-03-26T17:57:33.932560Z",
     "start_time": "2025-03-26T17:57:33.912680Z"
    }
   },
   "cell_type": "code",
   "source": "stores_df.value_counts('Country').reset_index().rename(columns={0: 'Count'})['Count'].median()\n",
   "id": "9931cfd8dec4df5f",
   "outputs": [
    {
     "data": {
      "text/plain": [
       "6.5"
      ]
     },
     "execution_count": 55,
     "metadata": {},
     "output_type": "execute_result"
    }
   ],
   "execution_count": 55
  },
  {
   "metadata": {},
   "cell_type": "markdown",
   "source": "The company operates 66 stores across 7 countries, with the United States having the highest count at 24 stores and Italy the lowest at 3 stores. The median number of stores per country is 6.",
   "id": "8b0daab0c20f751"
  },
  {
   "metadata": {},
   "cell_type": "markdown",
   "source": "### Customers Dataset",
   "id": "176fd66d74df9615"
  },
  {
   "metadata": {
    "ExecuteTime": {
     "end_time": "2025-03-26T19:08:38.659762Z",
     "start_time": "2025-03-26T19:08:38.571792Z"
    }
   },
   "cell_type": "code",
   "source": "customers_df = pd.read_sql('''SELECT * FROM customers;''', engine)",
   "id": "70e9cfdb04e19ba2",
   "outputs": [],
   "execution_count": 159
  },
  {
   "metadata": {
    "ExecuteTime": {
     "end_time": "2025-03-26T19:08:41.537008Z",
     "start_time": "2025-03-26T19:08:41.525222Z"
    }
   },
   "cell_type": "code",
   "source": "customers_df.value_counts('Gender').reset_index(name='Count')",
   "id": "7caf398685a1765c",
   "outputs": [
    {
     "data": {
      "text/plain": [
       "   Gender  Count\n",
       "0    Male   7742\n",
       "1  Female   7514"
      ],
      "text/html": [
       "<div>\n",
       "<style scoped>\n",
       "    .dataframe tbody tr th:only-of-type {\n",
       "        vertical-align: middle;\n",
       "    }\n",
       "\n",
       "    .dataframe tbody tr th {\n",
       "        vertical-align: top;\n",
       "    }\n",
       "\n",
       "    .dataframe thead th {\n",
       "        text-align: right;\n",
       "    }\n",
       "</style>\n",
       "<table border=\"1\" class=\"dataframe\">\n",
       "  <thead>\n",
       "    <tr style=\"text-align: right;\">\n",
       "      <th></th>\n",
       "      <th>Gender</th>\n",
       "      <th>Count</th>\n",
       "    </tr>\n",
       "  </thead>\n",
       "  <tbody>\n",
       "    <tr>\n",
       "      <th>0</th>\n",
       "      <td>Male</td>\n",
       "      <td>7742</td>\n",
       "    </tr>\n",
       "    <tr>\n",
       "      <th>1</th>\n",
       "      <td>Female</td>\n",
       "      <td>7514</td>\n",
       "    </tr>\n",
       "  </tbody>\n",
       "</table>\n",
       "</div>"
      ]
     },
     "execution_count": 161,
     "metadata": {},
     "output_type": "execute_result"
    }
   ],
   "execution_count": 161
  },
  {
   "metadata": {},
   "cell_type": "markdown",
   "source": "Among the nearly 15,000 customers in the dataset, the gender distribution is almost equal, with approximately 7,700 males and 7,500 females.",
   "id": "bb6ffc726ba48da2"
  },
  {
   "metadata": {
    "ExecuteTime": {
     "end_time": "2025-03-26T19:11:44.537633Z",
     "start_time": "2025-03-26T19:11:44.524504Z"
    }
   },
   "cell_type": "code",
   "source": "((pd.Timestamp.today() - customers_df['Birthday'].astype('datetime64[ns]'))/pd.Timedelta(days=365.25)).describe()\n",
   "id": "a226dbe93629cfa",
   "outputs": [
    {
     "data": {
      "text/plain": [
       "count    15256.000000\n",
       "mean        56.508485\n",
       "std         19.319906\n",
       "min         23.100866\n",
       "25%         39.788752\n",
       "50%         56.665548\n",
       "75%         73.117294\n",
       "max         90.142619\n",
       "Name: Birthday, dtype: float64"
      ]
     },
     "execution_count": 165,
     "metadata": {},
     "output_type": "execute_result"
    }
   ],
   "execution_count": 165
  },
  {
   "metadata": {},
   "cell_type": "markdown",
   "source": "The average age of the customers is 56, with a minimum age of 23 and a maximum age of 90.",
   "id": "39dc2073322dcbb"
  },
  {
   "metadata": {},
   "cell_type": "markdown",
   "source": "### Products Dataset",
   "id": "12fa4d1cc6a73e3b"
  },
  {
   "metadata": {
    "ExecuteTime": {
     "end_time": "2025-03-26T19:17:15.582883Z",
     "start_time": "2025-03-26T19:17:15.547436Z"
    }
   },
   "cell_type": "code",
   "source": "products_df = pd.read_sql('''SELECT * FROM products;''', engine)",
   "id": "9abc0c8f6640c7c5",
   "outputs": [],
   "execution_count": 166
  },
  {
   "metadata": {
    "ExecuteTime": {
     "end_time": "2025-03-26T19:21:31.207277Z",
     "start_time": "2025-03-26T19:21:31.200872Z"
    }
   },
   "cell_type": "code",
   "source": "products_df['Brand'].nunique()",
   "id": "4481b7a59c6d6c81",
   "outputs": [
    {
     "data": {
      "text/plain": [
       "11"
      ]
     },
     "execution_count": 170,
     "metadata": {},
     "output_type": "execute_result"
    }
   ],
   "execution_count": 170
  },
  {
   "metadata": {
    "ExecuteTime": {
     "end_time": "2025-03-26T19:21:00.069238Z",
     "start_time": "2025-03-26T19:21:00.048518Z"
    }
   },
   "cell_type": "code",
   "source": "products_df.value_counts('Brand').reset_index(name='Count')",
   "id": "c21c7aa859c4ca21",
   "outputs": [
    {
     "data": {
      "text/plain": [
       "                   Brand  Count\n",
       "0                Contoso    710\n",
       "1               Fabrikam    267\n",
       "2                Litware    264\n",
       "3              Proseware    244\n",
       "4        Adventure Works    192\n",
       "5       Southridge Video    192\n",
       "6   Wide World Importers    173\n",
       "7      The Phone Company    152\n",
       "8          Tailspin Toys    144\n",
       "9               A. Datum    132\n",
       "10     Northwind Traders     47"
      ],
      "text/html": [
       "<div>\n",
       "<style scoped>\n",
       "    .dataframe tbody tr th:only-of-type {\n",
       "        vertical-align: middle;\n",
       "    }\n",
       "\n",
       "    .dataframe tbody tr th {\n",
       "        vertical-align: top;\n",
       "    }\n",
       "\n",
       "    .dataframe thead th {\n",
       "        text-align: right;\n",
       "    }\n",
       "</style>\n",
       "<table border=\"1\" class=\"dataframe\">\n",
       "  <thead>\n",
       "    <tr style=\"text-align: right;\">\n",
       "      <th></th>\n",
       "      <th>Brand</th>\n",
       "      <th>Count</th>\n",
       "    </tr>\n",
       "  </thead>\n",
       "  <tbody>\n",
       "    <tr>\n",
       "      <th>0</th>\n",
       "      <td>Contoso</td>\n",
       "      <td>710</td>\n",
       "    </tr>\n",
       "    <tr>\n",
       "      <th>1</th>\n",
       "      <td>Fabrikam</td>\n",
       "      <td>267</td>\n",
       "    </tr>\n",
       "    <tr>\n",
       "      <th>2</th>\n",
       "      <td>Litware</td>\n",
       "      <td>264</td>\n",
       "    </tr>\n",
       "    <tr>\n",
       "      <th>3</th>\n",
       "      <td>Proseware</td>\n",
       "      <td>244</td>\n",
       "    </tr>\n",
       "    <tr>\n",
       "      <th>4</th>\n",
       "      <td>Adventure Works</td>\n",
       "      <td>192</td>\n",
       "    </tr>\n",
       "    <tr>\n",
       "      <th>5</th>\n",
       "      <td>Southridge Video</td>\n",
       "      <td>192</td>\n",
       "    </tr>\n",
       "    <tr>\n",
       "      <th>6</th>\n",
       "      <td>Wide World Importers</td>\n",
       "      <td>173</td>\n",
       "    </tr>\n",
       "    <tr>\n",
       "      <th>7</th>\n",
       "      <td>The Phone Company</td>\n",
       "      <td>152</td>\n",
       "    </tr>\n",
       "    <tr>\n",
       "      <th>8</th>\n",
       "      <td>Tailspin Toys</td>\n",
       "      <td>144</td>\n",
       "    </tr>\n",
       "    <tr>\n",
       "      <th>9</th>\n",
       "      <td>A. Datum</td>\n",
       "      <td>132</td>\n",
       "    </tr>\n",
       "    <tr>\n",
       "      <th>10</th>\n",
       "      <td>Northwind Traders</td>\n",
       "      <td>47</td>\n",
       "    </tr>\n",
       "  </tbody>\n",
       "</table>\n",
       "</div>"
      ]
     },
     "execution_count": 169,
     "metadata": {},
     "output_type": "execute_result"
    }
   ],
   "execution_count": 169
  },
  {
   "metadata": {},
   "cell_type": "markdown",
   "source": "The company offers products from 11 different brands, with Contoso being the leading brand in terms of product offerings.",
   "id": "4f7dde1e6e437036"
  },
  {
   "metadata": {
    "ExecuteTime": {
     "end_time": "2025-03-26T19:26:15.963139Z",
     "start_time": "2025-03-26T19:26:15.953851Z"
    }
   },
   "cell_type": "code",
   "source": "products_df['Unit Price USD'].describe()",
   "id": "86753caf624747d5",
   "outputs": [
    {
     "data": {
      "text/plain": [
       "count    2517.000000\n",
       "mean      356.830131\n",
       "std       494.054962\n",
       "min         0.950000\n",
       "25%        69.000000\n",
       "50%       199.990000\n",
       "75%       410.000000\n",
       "max      3199.990000\n",
       "Name: Unit Price USD, dtype: float64"
      ]
     },
     "execution_count": 172,
     "metadata": {},
     "output_type": "execute_result"
    }
   ],
   "execution_count": 172
  },
  {
   "metadata": {},
   "cell_type": "markdown",
   "source": "The average price of the offered products is `$356`, with prices ranging from `$1` to `$3,200`.\n",
   "id": "26851945f65a153c"
  },
  {
   "metadata": {
    "ExecuteTime": {
     "end_time": "2025-03-26T19:28:57.045235Z",
     "start_time": "2025-03-26T19:28:57.035533Z"
    }
   },
   "cell_type": "code",
   "source": "products_df.value_counts('Subcategory').reset_index(name='Count')",
   "id": "7dd8e22d4dbbd25d",
   "outputs": [
    {
     "data": {
      "text/plain": [
       "                         Subcategory  Count\n",
       "0              Computers Accessories    201\n",
       "1                              Lamps    158\n",
       "2                     Download Games    120\n",
       "3                         Camcorders    103\n",
       "4               Projectors & Screens    103\n",
       "5                         Microwaves    102\n",
       "6           Printers, Scanners & Fax    101\n",
       "7                Smart phones & PDAs    101\n",
       "8                Digital SLR Cameras    100\n",
       "9                Home Theater System    100\n",
       "10                   Digital Cameras    100\n",
       "11              Home & Office Phones     92\n",
       "12                         Movie DVD     90\n",
       "13                     Refrigerators     86\n",
       "14                              Fans     78\n",
       "15                           Laptops     78\n",
       "16                          Monitors     78\n",
       "17                   Coffee Machines     74\n",
       "18                  Washers & Dryers     70\n",
       "19  Cameras & Camcorders Accessories     69\n",
       "20               Touch Screen Phones     62\n",
       "21                  Air Conditioners     62\n",
       "22              Bluetooth Headphones     50\n",
       "23                       Televisions     50\n",
       "24                         Car Video     46\n",
       "25                       Boxed Games     46\n",
       "26                           MP4&MP3     45\n",
       "27                          Desktops     45\n",
       "28                     Water Heaters     31\n",
       "29           Cell phones Accessories     30\n",
       "30                         VCD & DVD     26\n",
       "31                     Recording Pen     20"
      ],
      "text/html": [
       "<div>\n",
       "<style scoped>\n",
       "    .dataframe tbody tr th:only-of-type {\n",
       "        vertical-align: middle;\n",
       "    }\n",
       "\n",
       "    .dataframe tbody tr th {\n",
       "        vertical-align: top;\n",
       "    }\n",
       "\n",
       "    .dataframe thead th {\n",
       "        text-align: right;\n",
       "    }\n",
       "</style>\n",
       "<table border=\"1\" class=\"dataframe\">\n",
       "  <thead>\n",
       "    <tr style=\"text-align: right;\">\n",
       "      <th></th>\n",
       "      <th>Subcategory</th>\n",
       "      <th>Count</th>\n",
       "    </tr>\n",
       "  </thead>\n",
       "  <tbody>\n",
       "    <tr>\n",
       "      <th>0</th>\n",
       "      <td>Computers Accessories</td>\n",
       "      <td>201</td>\n",
       "    </tr>\n",
       "    <tr>\n",
       "      <th>1</th>\n",
       "      <td>Lamps</td>\n",
       "      <td>158</td>\n",
       "    </tr>\n",
       "    <tr>\n",
       "      <th>2</th>\n",
       "      <td>Download Games</td>\n",
       "      <td>120</td>\n",
       "    </tr>\n",
       "    <tr>\n",
       "      <th>3</th>\n",
       "      <td>Camcorders</td>\n",
       "      <td>103</td>\n",
       "    </tr>\n",
       "    <tr>\n",
       "      <th>4</th>\n",
       "      <td>Projectors &amp; Screens</td>\n",
       "      <td>103</td>\n",
       "    </tr>\n",
       "    <tr>\n",
       "      <th>5</th>\n",
       "      <td>Microwaves</td>\n",
       "      <td>102</td>\n",
       "    </tr>\n",
       "    <tr>\n",
       "      <th>6</th>\n",
       "      <td>Printers, Scanners &amp; Fax</td>\n",
       "      <td>101</td>\n",
       "    </tr>\n",
       "    <tr>\n",
       "      <th>7</th>\n",
       "      <td>Smart phones &amp; PDAs</td>\n",
       "      <td>101</td>\n",
       "    </tr>\n",
       "    <tr>\n",
       "      <th>8</th>\n",
       "      <td>Digital SLR Cameras</td>\n",
       "      <td>100</td>\n",
       "    </tr>\n",
       "    <tr>\n",
       "      <th>9</th>\n",
       "      <td>Home Theater System</td>\n",
       "      <td>100</td>\n",
       "    </tr>\n",
       "    <tr>\n",
       "      <th>10</th>\n",
       "      <td>Digital Cameras</td>\n",
       "      <td>100</td>\n",
       "    </tr>\n",
       "    <tr>\n",
       "      <th>11</th>\n",
       "      <td>Home &amp; Office Phones</td>\n",
       "      <td>92</td>\n",
       "    </tr>\n",
       "    <tr>\n",
       "      <th>12</th>\n",
       "      <td>Movie DVD</td>\n",
       "      <td>90</td>\n",
       "    </tr>\n",
       "    <tr>\n",
       "      <th>13</th>\n",
       "      <td>Refrigerators</td>\n",
       "      <td>86</td>\n",
       "    </tr>\n",
       "    <tr>\n",
       "      <th>14</th>\n",
       "      <td>Fans</td>\n",
       "      <td>78</td>\n",
       "    </tr>\n",
       "    <tr>\n",
       "      <th>15</th>\n",
       "      <td>Laptops</td>\n",
       "      <td>78</td>\n",
       "    </tr>\n",
       "    <tr>\n",
       "      <th>16</th>\n",
       "      <td>Monitors</td>\n",
       "      <td>78</td>\n",
       "    </tr>\n",
       "    <tr>\n",
       "      <th>17</th>\n",
       "      <td>Coffee Machines</td>\n",
       "      <td>74</td>\n",
       "    </tr>\n",
       "    <tr>\n",
       "      <th>18</th>\n",
       "      <td>Washers &amp; Dryers</td>\n",
       "      <td>70</td>\n",
       "    </tr>\n",
       "    <tr>\n",
       "      <th>19</th>\n",
       "      <td>Cameras &amp; Camcorders Accessories</td>\n",
       "      <td>69</td>\n",
       "    </tr>\n",
       "    <tr>\n",
       "      <th>20</th>\n",
       "      <td>Touch Screen Phones</td>\n",
       "      <td>62</td>\n",
       "    </tr>\n",
       "    <tr>\n",
       "      <th>21</th>\n",
       "      <td>Air Conditioners</td>\n",
       "      <td>62</td>\n",
       "    </tr>\n",
       "    <tr>\n",
       "      <th>22</th>\n",
       "      <td>Bluetooth Headphones</td>\n",
       "      <td>50</td>\n",
       "    </tr>\n",
       "    <tr>\n",
       "      <th>23</th>\n",
       "      <td>Televisions</td>\n",
       "      <td>50</td>\n",
       "    </tr>\n",
       "    <tr>\n",
       "      <th>24</th>\n",
       "      <td>Car Video</td>\n",
       "      <td>46</td>\n",
       "    </tr>\n",
       "    <tr>\n",
       "      <th>25</th>\n",
       "      <td>Boxed Games</td>\n",
       "      <td>46</td>\n",
       "    </tr>\n",
       "    <tr>\n",
       "      <th>26</th>\n",
       "      <td>MP4&amp;MP3</td>\n",
       "      <td>45</td>\n",
       "    </tr>\n",
       "    <tr>\n",
       "      <th>27</th>\n",
       "      <td>Desktops</td>\n",
       "      <td>45</td>\n",
       "    </tr>\n",
       "    <tr>\n",
       "      <th>28</th>\n",
       "      <td>Water Heaters</td>\n",
       "      <td>31</td>\n",
       "    </tr>\n",
       "    <tr>\n",
       "      <th>29</th>\n",
       "      <td>Cell phones Accessories</td>\n",
       "      <td>30</td>\n",
       "    </tr>\n",
       "    <tr>\n",
       "      <th>30</th>\n",
       "      <td>VCD &amp; DVD</td>\n",
       "      <td>26</td>\n",
       "    </tr>\n",
       "    <tr>\n",
       "      <th>31</th>\n",
       "      <td>Recording Pen</td>\n",
       "      <td>20</td>\n",
       "    </tr>\n",
       "  </tbody>\n",
       "</table>\n",
       "</div>"
      ]
     },
     "execution_count": 175,
     "metadata": {},
     "output_type": "execute_result"
    }
   ],
   "execution_count": 175
  },
  {
   "metadata": {},
   "cell_type": "markdown",
   "source": "The company offers products across 32 distinct categories, with computer accessories having the largest selection.",
   "id": "b43b77c7104f3e6"
  },
  {
   "metadata": {},
   "cell_type": "code",
   "outputs": [],
   "execution_count": null,
   "source": "",
   "id": "7a0acb898386bc17"
  }
 ],
 "metadata": {
  "kernelspec": {
   "display_name": "Python 3",
   "language": "python",
   "name": "python3"
  },
  "language_info": {
   "codemirror_mode": {
    "name": "ipython",
    "version": 2
   },
   "file_extension": ".py",
   "mimetype": "text/x-python",
   "name": "python",
   "nbconvert_exporter": "python",
   "pygments_lexer": "ipython2",
   "version": "2.7.6"
  }
 },
 "nbformat": 4,
 "nbformat_minor": 5
}
