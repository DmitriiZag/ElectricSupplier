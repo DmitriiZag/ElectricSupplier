{
 "cells": [
  {
   "metadata": {},
   "cell_type": "markdown",
   "source": "# Global consumer electronic brand sales analysis",
   "id": "9714d8ec3a2c48ca"
  },
  {
   "metadata": {},
   "cell_type": "markdown",
   "source": "## Importing libraries and data",
   "id": "758b9b96863ca718"
  },
  {
   "metadata": {},
   "cell_type": "markdown",
   "source": "During this step, we import the necessary libraries and load the data required for further analysis. \n",
   "id": "cfc973079724e321"
  },
  {
   "metadata": {
    "ExecuteTime": {
     "end_time": "2025-03-26T17:14:14.985504Z",
     "start_time": "2025-03-26T17:14:14.711658Z"
    }
   },
   "cell_type": "code",
   "source": [
    "import matplotlib.pyplot as plt\n",
    "import pandas as pd\n",
    "import numpy as np\n",
    "from sqlalchemy import create_engine, MetaData, Table, ForeignKey\n",
    "from sqlalchemy import Column, Integer, String, inspect, Float, Date, join, select\n",
    "import os\n",
    "import plotly.graph_objs as go \n",
    "from plotly.offline import init_notebook_mode,iplot\n",
    "import seaborn as sns\n",
    "import matplotlib.pyplot as plt\n",
    "from matplotlib.ticker import FuncFormatter\n",
    "init_notebook_mode(connected=True) "
   ],
   "id": "9b377da7c2e120d0",
   "outputs": [
    {
     "data": {
      "text/html": [
       "        <script type=\"text/javascript\">\n",
       "        window.PlotlyConfig = {MathJaxConfig: 'local'};\n",
       "        if (window.MathJax && window.MathJax.Hub && window.MathJax.Hub.Config) {window.MathJax.Hub.Config({SVG: {font: \"STIX-Web\"}});}\n",
       "        if (typeof require !== 'undefined') {\n",
       "        require.undef(\"plotly\");\n",
       "        requirejs.config({\n",
       "            paths: {\n",
       "                'plotly': ['https://cdn.plot.ly/plotly-2.12.1.min']\n",
       "            }\n",
       "        });\n",
       "        require(['plotly'], function(Plotly) {\n",
       "            window._Plotly = Plotly;\n",
       "        });\n",
       "        }\n",
       "        </script>\n",
       "        "
      ]
     },
     "metadata": {},
     "output_type": "display_data"
    }
   ],
   "execution_count": 3
  },
  {
   "metadata": {
    "ExecuteTime": {
     "end_time": "2025-03-26T17:15:25.817052Z",
     "start_time": "2025-03-26T17:15:25.784535Z"
    }
   },
   "cell_type": "code",
   "source": [
    "engine = create_engine(\"sqlite:///database/my_database.db\")\n",
    "metadata = MetaData(bind=engine)"
   ],
   "id": "5b04bc402bef4f59",
   "outputs": [],
   "execution_count": 4
  },
  {
   "metadata": {},
   "cell_type": "markdown",
   "source": "## Descriptive Statistics\n",
   "id": "fa458cc50244aca6"
  },
  {
   "metadata": {},
   "cell_type": "markdown",
   "source": "This section offers a comprehensive overview of the dataset, including key descriptive statistics for the variables.\n",
   "id": "586751bf7daae77"
  },
  {
   "metadata": {},
   "cell_type": "markdown",
   "source": "### Sales Dataset",
   "id": "261c51f7ba4622aa"
  },
  {
   "metadata": {
    "ExecuteTime": {
     "end_time": "2025-03-26T17:17:43.003173Z",
     "start_time": "2025-03-26T17:17:42.559899Z"
    }
   },
   "cell_type": "code",
   "outputs": [],
   "execution_count": 6,
   "source": "sales_df = pd.read_sql('''SELECT * FROM sales;''', engine)",
   "id": "621fd34ab878b6d6"
  },
  {
   "metadata": {
    "ExecuteTime": {
     "end_time": "2025-03-26T17:24:27.654263Z",
     "start_time": "2025-03-26T17:24:27.641580Z"
    }
   },
   "cell_type": "code",
   "source": "sales_df['Order Date'].min()",
   "id": "a0e0c0832d146393",
   "outputs": [
    {
     "data": {
      "text/plain": [
       "'2016-01-01 00:00:00.000000'"
      ]
     },
     "execution_count": 19,
     "metadata": {},
     "output_type": "execute_result"
    }
   ],
   "execution_count": 19
  },
  {
   "metadata": {
    "ExecuteTime": {
     "end_time": "2025-03-26T17:24:36.384571Z",
     "start_time": "2025-03-26T17:24:36.368242Z"
    }
   },
   "cell_type": "code",
   "source": "sales_df['Order Date'].max()",
   "id": "11d9d3e1737d9545",
   "outputs": [
    {
     "data": {
      "text/plain": [
       "'2021-02-20 00:00:00.000000'"
      ]
     },
     "execution_count": 21,
     "metadata": {},
     "output_type": "execute_result"
    }
   ],
   "execution_count": 21
  },
  {
   "metadata": {},
   "cell_type": "markdown",
   "source": "The dataset spans nearly five years, from January 1, 2016, to February 2021.",
   "id": "4ea82002c340004e"
  },
  {
   "metadata": {
    "ExecuteTime": {
     "end_time": "2025-03-26T17:35:19.022153Z",
     "start_time": "2025-03-26T17:35:18.989340Z"
    }
   },
   "cell_type": "code",
   "source": "sales_df.value_counts('Currency Code', normalize=True).reset_index().rename(columns={0: 'Percentage'})",
   "id": "47ef2497b60e5af1",
   "outputs": [
    {
     "data": {
      "text/plain": [
       "  Currency Code  Percentage\n",
       "0           USD    0.536973\n",
       "1           EUR    0.200703\n",
       "2           GBP    0.129445\n",
       "3           CAD    0.086111\n",
       "4           AUD    0.046769"
      ],
      "text/html": [
       "<div>\n",
       "<style scoped>\n",
       "    .dataframe tbody tr th:only-of-type {\n",
       "        vertical-align: middle;\n",
       "    }\n",
       "\n",
       "    .dataframe tbody tr th {\n",
       "        vertical-align: top;\n",
       "    }\n",
       "\n",
       "    .dataframe thead th {\n",
       "        text-align: right;\n",
       "    }\n",
       "</style>\n",
       "<table border=\"1\" class=\"dataframe\">\n",
       "  <thead>\n",
       "    <tr style=\"text-align: right;\">\n",
       "      <th></th>\n",
       "      <th>Currency Code</th>\n",
       "      <th>Percentage</th>\n",
       "    </tr>\n",
       "  </thead>\n",
       "  <tbody>\n",
       "    <tr>\n",
       "      <th>0</th>\n",
       "      <td>USD</td>\n",
       "      <td>0.536973</td>\n",
       "    </tr>\n",
       "    <tr>\n",
       "      <th>1</th>\n",
       "      <td>EUR</td>\n",
       "      <td>0.200703</td>\n",
       "    </tr>\n",
       "    <tr>\n",
       "      <th>2</th>\n",
       "      <td>GBP</td>\n",
       "      <td>0.129445</td>\n",
       "    </tr>\n",
       "    <tr>\n",
       "      <th>3</th>\n",
       "      <td>CAD</td>\n",
       "      <td>0.086111</td>\n",
       "    </tr>\n",
       "    <tr>\n",
       "      <th>4</th>\n",
       "      <td>AUD</td>\n",
       "      <td>0.046769</td>\n",
       "    </tr>\n",
       "  </tbody>\n",
       "</table>\n",
       "</div>"
      ]
     },
     "execution_count": 34,
     "metadata": {},
     "output_type": "execute_result"
    }
   ],
   "execution_count": 34
  },
  {
   "metadata": {},
   "cell_type": "markdown",
   "source": "The company supports five currencies: USD, EUR, GBP, CAD, and AUD. The US dollar is the most commonly used, making up approximately 53% of all sales, while the Euro accounts for around 20%.",
   "id": "144dda31d52d01d6"
  },
  {
   "metadata": {
    "ExecuteTime": {
     "end_time": "2025-03-26T17:38:48.674282Z",
     "start_time": "2025-03-26T17:38:48.641665Z"
    }
   },
   "cell_type": "code",
   "source": "sales_df['Quantity'].describe()",
   "id": "69c960d7a9ac2aa3",
   "outputs": [
    {
     "data": {
      "text/plain": [
       "count    62884.000000\n",
       "mean         3.144790\n",
       "std          2.256371\n",
       "min          1.000000\n",
       "25%          1.000000\n",
       "50%          2.000000\n",
       "75%          4.000000\n",
       "max         10.000000\n",
       "Name: Quantity, dtype: float64"
      ]
     },
     "execution_count": 35,
     "metadata": {},
     "output_type": "execute_result"
    }
   ],
   "execution_count": 35
  },
  {
   "metadata": {},
   "cell_type": "markdown",
   "source": "The number of items per order ranges from 1 to 10, with an average purchase quantity of 3.",
   "id": "d1fd768a1843eb8"
  },
  {
   "metadata": {},
   "cell_type": "markdown",
   "source": "### Stores Dataset",
   "id": "61058c32202e2d5a"
  },
  {
   "metadata": {
    "ExecuteTime": {
     "end_time": "2025-03-26T17:45:24.952541Z",
     "start_time": "2025-03-26T17:45:24.925961Z"
    }
   },
   "cell_type": "code",
   "source": "stores_df = pd.read_sql('''SELECT * FROM stores;''', engine)",
   "id": "b3a31cd62b99486d",
   "outputs": [],
   "execution_count": 38
  },
  {
   "metadata": {
    "ExecuteTime": {
     "end_time": "2025-03-26T17:51:24.033905Z",
     "start_time": "2025-03-26T17:51:24.026908Z"
    }
   },
   "cell_type": "code",
   "outputs": [
    {
     "data": {
      "text/plain": [
       "          Country  Count\n",
       "0   United States     24\n",
       "1         Germany      9\n",
       "2          France      7\n",
       "3  United Kingdom      7\n",
       "4       Australia      6\n",
       "5          Canada      5\n",
       "6     Netherlands      5\n",
       "7           Italy      3"
      ],
      "text/html": [
       "<div>\n",
       "<style scoped>\n",
       "    .dataframe tbody tr th:only-of-type {\n",
       "        vertical-align: middle;\n",
       "    }\n",
       "\n",
       "    .dataframe tbody tr th {\n",
       "        vertical-align: top;\n",
       "    }\n",
       "\n",
       "    .dataframe thead th {\n",
       "        text-align: right;\n",
       "    }\n",
       "</style>\n",
       "<table border=\"1\" class=\"dataframe\">\n",
       "  <thead>\n",
       "    <tr style=\"text-align: right;\">\n",
       "      <th></th>\n",
       "      <th>Country</th>\n",
       "      <th>Count</th>\n",
       "    </tr>\n",
       "  </thead>\n",
       "  <tbody>\n",
       "    <tr>\n",
       "      <th>0</th>\n",
       "      <td>United States</td>\n",
       "      <td>24</td>\n",
       "    </tr>\n",
       "    <tr>\n",
       "      <th>1</th>\n",
       "      <td>Germany</td>\n",
       "      <td>9</td>\n",
       "    </tr>\n",
       "    <tr>\n",
       "      <th>2</th>\n",
       "      <td>France</td>\n",
       "      <td>7</td>\n",
       "    </tr>\n",
       "    <tr>\n",
       "      <th>3</th>\n",
       "      <td>United Kingdom</td>\n",
       "      <td>7</td>\n",
       "    </tr>\n",
       "    <tr>\n",
       "      <th>4</th>\n",
       "      <td>Australia</td>\n",
       "      <td>6</td>\n",
       "    </tr>\n",
       "    <tr>\n",
       "      <th>5</th>\n",
       "      <td>Canada</td>\n",
       "      <td>5</td>\n",
       "    </tr>\n",
       "    <tr>\n",
       "      <th>6</th>\n",
       "      <td>Netherlands</td>\n",
       "      <td>5</td>\n",
       "    </tr>\n",
       "    <tr>\n",
       "      <th>7</th>\n",
       "      <td>Italy</td>\n",
       "      <td>3</td>\n",
       "    </tr>\n",
       "  </tbody>\n",
       "</table>\n",
       "</div>"
      ]
     },
     "execution_count": 49,
     "metadata": {},
     "output_type": "execute_result"
    }
   ],
   "execution_count": 49,
   "source": "stores_df.value_counts('Country').reset_index().rename(columns={0: 'Count'})",
   "id": "38b007529b6c223e"
  },
  {
   "metadata": {
    "ExecuteTime": {
     "end_time": "2025-03-26T17:54:30.329906Z",
     "start_time": "2025-03-26T17:54:30.322427Z"
    }
   },
   "cell_type": "code",
   "source": "stores_df.value_counts('Country').reset_index().rename(columns={0: 'Count'})['Count'].sum()\n",
   "id": "87cb280f09454b7",
   "outputs": [
    {
     "data": {
      "text/plain": [
       "66"
      ]
     },
     "execution_count": 53,
     "metadata": {},
     "output_type": "execute_result"
    }
   ],
   "execution_count": 53
  },
  {
   "metadata": {
    "ExecuteTime": {
     "end_time": "2025-03-26T17:57:33.932560Z",
     "start_time": "2025-03-26T17:57:33.912680Z"
    }
   },
   "cell_type": "code",
   "source": "stores_df.value_counts('Country').reset_index().rename(columns={0: 'Count'})['Count'].median()\n",
   "id": "9931cfd8dec4df5f",
   "outputs": [
    {
     "data": {
      "text/plain": [
       "6.5"
      ]
     },
     "execution_count": 55,
     "metadata": {},
     "output_type": "execute_result"
    }
   ],
   "execution_count": 55
  },
  {
   "metadata": {},
   "cell_type": "markdown",
   "source": "The company operates 66 stores across 7 countries, with the United States having the highest count at 24 stores and Italy the lowest at 3 stores. The median number of stores per country is 6.",
   "id": "8b0daab0c20f751"
  },
  {
   "metadata": {},
   "cell_type": "markdown",
   "source": "### Customers Dataset",
   "id": "176fd66d74df9615"
  },
  {
   "metadata": {},
   "cell_type": "code",
   "outputs": [],
   "execution_count": null,
   "source": "stores_df = pd.read_sql('''SELECT * FROM stores;''', engine)",
   "id": "70e9cfdb04e19ba2"
  }
 ],
 "metadata": {
  "kernelspec": {
   "display_name": "Python 3",
   "language": "python",
   "name": "python3"
  },
  "language_info": {
   "codemirror_mode": {
    "name": "ipython",
    "version": 2
   },
   "file_extension": ".py",
   "mimetype": "text/x-python",
   "name": "python",
   "nbconvert_exporter": "python",
   "pygments_lexer": "ipython2",
   "version": "2.7.6"
  }
 },
 "nbformat": 4,
 "nbformat_minor": 5
}
