{
 "cells": [
  {
   "metadata": {},
   "cell_type": "markdown",
   "source": [
    "# Global consumer electronic brand sales analysis\n",
    "\n"
   ],
   "id": "8a77807f92f26ee"
  },
  {
   "metadata": {},
   "cell_type": "markdown",
   "source": "## Importing libraries and data",
   "id": "5a573012cc98e552"
  },
  {
   "metadata": {},
   "cell_type": "markdown",
   "source": "During this step, we import the necessary libraries and load the data required for further analysis. ",
   "id": "7f393e03f3fb8ebc"
  },
  {
   "metadata": {
    "ExecuteTime": {
     "end_time": "2025-03-24T20:22:29.549328Z",
     "start_time": "2025-03-24T20:22:29.544277Z"
    }
   },
   "cell_type": "code",
   "source": [
    "import matplotlib.pyplot as plt\n",
    "import pandas as pd\n",
    "import numpy as np\n",
    "from sqlalchemy import create_engine, MetaData, Table, ForeignKey\n",
    "from sqlalchemy import Column, Integer, String, inspect, Float, Date, join, select\n",
    "import os\n",
    "import plotly.graph_objs as go \n",
    "from plotly.offline import init_notebook_mode,iplot\n",
    "import seaborn as sns\n",
    "import matplotlib.pyplot as plt\n",
    "from matplotlib.ticker import FuncFormatter\n",
    "init_notebook_mode(connected=True) "
   ],
   "id": "fbc121e30a2defb3",
   "outputs": [
    {
     "data": {
      "text/html": [
       "        <script type=\"text/javascript\">\n",
       "        window.PlotlyConfig = {MathJaxConfig: 'local'};\n",
       "        if (window.MathJax && window.MathJax.Hub && window.MathJax.Hub.Config) {window.MathJax.Hub.Config({SVG: {font: \"STIX-Web\"}});}\n",
       "        if (typeof require !== 'undefined') {\n",
       "        require.undef(\"plotly\");\n",
       "        requirejs.config({\n",
       "            paths: {\n",
       "                'plotly': ['https://cdn.plot.ly/plotly-2.12.1.min']\n",
       "            }\n",
       "        });\n",
       "        require(['plotly'], function(Plotly) {\n",
       "            window._Plotly = Plotly;\n",
       "        });\n",
       "        }\n",
       "        </script>\n",
       "        "
      ]
     },
     "metadata": {},
     "output_type": "display_data"
    }
   ],
   "execution_count": 118
  },
  {
   "metadata": {
    "ExecuteTime": {
     "end_time": "2025-03-24T19:07:34.483209Z",
     "start_time": "2025-03-24T19:07:34.410518Z"
    }
   },
   "cell_type": "code",
   "source": [
    "customers = pd.read_csv('data/Customers.csv', encoding='ISO-8859-1')\n",
    "exchange_rates = pd.read_csv('data/Exchange_Rates.csv', encoding='ISO-8859-1')\n",
    "products = pd.read_csv('data/Products.csv', encoding='ISO-8859-1')\n",
    "sales = pd.read_csv('data/Sales.csv', encoding='ISO-8859-1')\n",
    "stores = pd.read_csv('data/Stores.csv', encoding='ISO-8859-1')"
   ],
   "id": "1927da0adfe1d53",
   "outputs": [],
   "execution_count": 51
  },
  {
   "metadata": {},
   "cell_type": "markdown",
   "source": "## Assigning correct datatypes to variables",
   "id": "83a10df9db6811a1"
  },
  {
   "metadata": {},
   "cell_type": "markdown",
   "source": [
    "In this step, we will assign the appropriate data types to the DataFrame columns to ensure optimal performance, memory usage, and accurate analysis.\n",
    "This version emphasizes the purpose of assigning correct data types and includes the benefits like performance, memory optimization, and data accuracy."
   ],
   "id": "8e854297a1317785"
  },
  {
   "metadata": {
    "ExecuteTime": {
     "end_time": "2025-03-24T18:44:53.197605Z",
     "start_time": "2025-03-24T18:44:53.188129Z"
    }
   },
   "cell_type": "code",
   "source": "customers.head()",
   "id": "2c1179c362ca8e23",
   "outputs": [
    {
     "data": {
      "text/plain": [
       "   CustomerKey  Gender               Name            City State Code  \\\n",
       "0          301  Female      Lilly Harding  WANDEARAH EAST         SA   \n",
       "1          325  Female       Madison Hull      MOUNT BUDD         WA   \n",
       "2          554  Female      Claire Ferres       WINJALLOK        VIC   \n",
       "3          786    Male  Jai Poltpalingada    MIDDLE RIVER         SA   \n",
       "4         1042    Male    Aidan Pankhurst   TAWONGA SOUTH        VIC   \n",
       "\n",
       "               State Zip Code    Country  Continent    Birthday  \n",
       "0    South Australia     5523  Australia  Australia    7/3/1939  \n",
       "1  Western Australia     6522  Australia  Australia   9/27/1979  \n",
       "2           Victoria     3380  Australia  Australia   5/26/1947  \n",
       "3    South Australia     5223  Australia  Australia   9/17/1957  \n",
       "4           Victoria     3698  Australia  Australia  11/19/1965  "
      ],
      "text/html": [
       "<div>\n",
       "<style scoped>\n",
       "    .dataframe tbody tr th:only-of-type {\n",
       "        vertical-align: middle;\n",
       "    }\n",
       "\n",
       "    .dataframe tbody tr th {\n",
       "        vertical-align: top;\n",
       "    }\n",
       "\n",
       "    .dataframe thead th {\n",
       "        text-align: right;\n",
       "    }\n",
       "</style>\n",
       "<table border=\"1\" class=\"dataframe\">\n",
       "  <thead>\n",
       "    <tr style=\"text-align: right;\">\n",
       "      <th></th>\n",
       "      <th>CustomerKey</th>\n",
       "      <th>Gender</th>\n",
       "      <th>Name</th>\n",
       "      <th>City</th>\n",
       "      <th>State Code</th>\n",
       "      <th>State</th>\n",
       "      <th>Zip Code</th>\n",
       "      <th>Country</th>\n",
       "      <th>Continent</th>\n",
       "      <th>Birthday</th>\n",
       "    </tr>\n",
       "  </thead>\n",
       "  <tbody>\n",
       "    <tr>\n",
       "      <th>0</th>\n",
       "      <td>301</td>\n",
       "      <td>Female</td>\n",
       "      <td>Lilly Harding</td>\n",
       "      <td>WANDEARAH EAST</td>\n",
       "      <td>SA</td>\n",
       "      <td>South Australia</td>\n",
       "      <td>5523</td>\n",
       "      <td>Australia</td>\n",
       "      <td>Australia</td>\n",
       "      <td>7/3/1939</td>\n",
       "    </tr>\n",
       "    <tr>\n",
       "      <th>1</th>\n",
       "      <td>325</td>\n",
       "      <td>Female</td>\n",
       "      <td>Madison Hull</td>\n",
       "      <td>MOUNT BUDD</td>\n",
       "      <td>WA</td>\n",
       "      <td>Western Australia</td>\n",
       "      <td>6522</td>\n",
       "      <td>Australia</td>\n",
       "      <td>Australia</td>\n",
       "      <td>9/27/1979</td>\n",
       "    </tr>\n",
       "    <tr>\n",
       "      <th>2</th>\n",
       "      <td>554</td>\n",
       "      <td>Female</td>\n",
       "      <td>Claire Ferres</td>\n",
       "      <td>WINJALLOK</td>\n",
       "      <td>VIC</td>\n",
       "      <td>Victoria</td>\n",
       "      <td>3380</td>\n",
       "      <td>Australia</td>\n",
       "      <td>Australia</td>\n",
       "      <td>5/26/1947</td>\n",
       "    </tr>\n",
       "    <tr>\n",
       "      <th>3</th>\n",
       "      <td>786</td>\n",
       "      <td>Male</td>\n",
       "      <td>Jai Poltpalingada</td>\n",
       "      <td>MIDDLE RIVER</td>\n",
       "      <td>SA</td>\n",
       "      <td>South Australia</td>\n",
       "      <td>5223</td>\n",
       "      <td>Australia</td>\n",
       "      <td>Australia</td>\n",
       "      <td>9/17/1957</td>\n",
       "    </tr>\n",
       "    <tr>\n",
       "      <th>4</th>\n",
       "      <td>1042</td>\n",
       "      <td>Male</td>\n",
       "      <td>Aidan Pankhurst</td>\n",
       "      <td>TAWONGA SOUTH</td>\n",
       "      <td>VIC</td>\n",
       "      <td>Victoria</td>\n",
       "      <td>3698</td>\n",
       "      <td>Australia</td>\n",
       "      <td>Australia</td>\n",
       "      <td>11/19/1965</td>\n",
       "    </tr>\n",
       "  </tbody>\n",
       "</table>\n",
       "</div>"
      ]
     },
     "execution_count": 3,
     "metadata": {},
     "output_type": "execute_result"
    }
   ],
   "execution_count": 3
  },
  {
   "metadata": {
    "ExecuteTime": {
     "end_time": "2025-03-24T18:44:55.371385Z",
     "start_time": "2025-03-24T18:44:55.350749Z"
    }
   },
   "cell_type": "code",
   "source": [
    "customers['Gender'] = customers['Gender'].astype('category')\n",
    "customers['Birthday'] = customers['Birthday'].astype('datetime64[ns]')"
   ],
   "id": "8f5e5050388860b2",
   "outputs": [],
   "execution_count": 4
  },
  {
   "metadata": {
    "ExecuteTime": {
     "end_time": "2025-03-24T19:35:42.163275Z",
     "start_time": "2025-03-24T19:35:42.156488Z"
    }
   },
   "cell_type": "code",
   "source": "exchange_rates.head()",
   "id": "514d420f61f89d",
   "outputs": [
    {
     "data": {
      "text/plain": [
       "        Date Currency  Exchange\n",
       "0 2015-01-01      USD    1.0000\n",
       "1 2015-01-01      CAD    1.1583\n",
       "2 2015-01-01      AUD    1.2214\n",
       "3 2015-01-01      EUR    0.8237\n",
       "4 2015-01-01      GBP    0.6415"
      ],
      "text/html": [
       "<div>\n",
       "<style scoped>\n",
       "    .dataframe tbody tr th:only-of-type {\n",
       "        vertical-align: middle;\n",
       "    }\n",
       "\n",
       "    .dataframe tbody tr th {\n",
       "        vertical-align: top;\n",
       "    }\n",
       "\n",
       "    .dataframe thead th {\n",
       "        text-align: right;\n",
       "    }\n",
       "</style>\n",
       "<table border=\"1\" class=\"dataframe\">\n",
       "  <thead>\n",
       "    <tr style=\"text-align: right;\">\n",
       "      <th></th>\n",
       "      <th>Date</th>\n",
       "      <th>Currency</th>\n",
       "      <th>Exchange</th>\n",
       "    </tr>\n",
       "  </thead>\n",
       "  <tbody>\n",
       "    <tr>\n",
       "      <th>0</th>\n",
       "      <td>2015-01-01</td>\n",
       "      <td>USD</td>\n",
       "      <td>1.0000</td>\n",
       "    </tr>\n",
       "    <tr>\n",
       "      <th>1</th>\n",
       "      <td>2015-01-01</td>\n",
       "      <td>CAD</td>\n",
       "      <td>1.1583</td>\n",
       "    </tr>\n",
       "    <tr>\n",
       "      <th>2</th>\n",
       "      <td>2015-01-01</td>\n",
       "      <td>AUD</td>\n",
       "      <td>1.2214</td>\n",
       "    </tr>\n",
       "    <tr>\n",
       "      <th>3</th>\n",
       "      <td>2015-01-01</td>\n",
       "      <td>EUR</td>\n",
       "      <td>0.8237</td>\n",
       "    </tr>\n",
       "    <tr>\n",
       "      <th>4</th>\n",
       "      <td>2015-01-01</td>\n",
       "      <td>GBP</td>\n",
       "      <td>0.6415</td>\n",
       "    </tr>\n",
       "  </tbody>\n",
       "</table>\n",
       "</div>"
      ]
     },
     "execution_count": 72,
     "metadata": {},
     "output_type": "execute_result"
    }
   ],
   "execution_count": 72
  },
  {
   "metadata": {
    "ExecuteTime": {
     "end_time": "2025-03-24T19:35:33.881388Z",
     "start_time": "2025-03-24T19:35:33.868596Z"
    }
   },
   "cell_type": "code",
   "source": [
    "exchange_rates['Date'] = exchange_rates['Date'].astype('datetime64[ns]')\n",
    "exchange_rates['Currency'] = exchange_rates['Currency'].astype('category')"
   ],
   "id": "5417c67c56907842",
   "outputs": [],
   "execution_count": 71
  },
  {
   "metadata": {
    "ExecuteTime": {
     "end_time": "2025-03-24T19:06:26.447266Z",
     "start_time": "2025-03-24T19:06:26.439167Z"
    }
   },
   "cell_type": "code",
   "source": "products.head()",
   "id": "8a3a3bc11bd9f8a0",
   "outputs": [
    {
     "data": {
      "text/plain": [
       "   ProductKey                         Product Name    Brand   Color  \\\n",
       "0           1  Contoso 512MB MP3 Player E51 Silver  Contoso  Silver   \n",
       "1           2    Contoso 512MB MP3 Player E51 Blue  Contoso    Blue   \n",
       "2           3     Contoso 1G MP3 Player E100 White  Contoso   White   \n",
       "3           4    Contoso 2G MP3 Player E200 Silver  Contoso  Silver   \n",
       "4           5       Contoso 2G MP3 Player E200 Red  Contoso     Red   \n",
       "\n",
       "  Unit Cost USD  Unit Price USD  SubcategoryKey Subcategory  CategoryKey  \\\n",
       "0        $6.62            12.99             101     MP4&MP3            1   \n",
       "1        $6.62            12.99             101     MP4&MP3            1   \n",
       "2        $7.40            14.52             101     MP4&MP3            1   \n",
       "3       $11.00            21.57             101     MP4&MP3            1   \n",
       "4       $11.00            21.57             101     MP4&MP3            1   \n",
       "\n",
       "  Category  \n",
       "0    Audio  \n",
       "1    Audio  \n",
       "2    Audio  \n",
       "3    Audio  \n",
       "4    Audio  "
      ],
      "text/html": [
       "<div>\n",
       "<style scoped>\n",
       "    .dataframe tbody tr th:only-of-type {\n",
       "        vertical-align: middle;\n",
       "    }\n",
       "\n",
       "    .dataframe tbody tr th {\n",
       "        vertical-align: top;\n",
       "    }\n",
       "\n",
       "    .dataframe thead th {\n",
       "        text-align: right;\n",
       "    }\n",
       "</style>\n",
       "<table border=\"1\" class=\"dataframe\">\n",
       "  <thead>\n",
       "    <tr style=\"text-align: right;\">\n",
       "      <th></th>\n",
       "      <th>ProductKey</th>\n",
       "      <th>Product Name</th>\n",
       "      <th>Brand</th>\n",
       "      <th>Color</th>\n",
       "      <th>Unit Cost USD</th>\n",
       "      <th>Unit Price USD</th>\n",
       "      <th>SubcategoryKey</th>\n",
       "      <th>Subcategory</th>\n",
       "      <th>CategoryKey</th>\n",
       "      <th>Category</th>\n",
       "    </tr>\n",
       "  </thead>\n",
       "  <tbody>\n",
       "    <tr>\n",
       "      <th>0</th>\n",
       "      <td>1</td>\n",
       "      <td>Contoso 512MB MP3 Player E51 Silver</td>\n",
       "      <td>Contoso</td>\n",
       "      <td>Silver</td>\n",
       "      <td>$6.62</td>\n",
       "      <td>12.99</td>\n",
       "      <td>101</td>\n",
       "      <td>MP4&amp;MP3</td>\n",
       "      <td>1</td>\n",
       "      <td>Audio</td>\n",
       "    </tr>\n",
       "    <tr>\n",
       "      <th>1</th>\n",
       "      <td>2</td>\n",
       "      <td>Contoso 512MB MP3 Player E51 Blue</td>\n",
       "      <td>Contoso</td>\n",
       "      <td>Blue</td>\n",
       "      <td>$6.62</td>\n",
       "      <td>12.99</td>\n",
       "      <td>101</td>\n",
       "      <td>MP4&amp;MP3</td>\n",
       "      <td>1</td>\n",
       "      <td>Audio</td>\n",
       "    </tr>\n",
       "    <tr>\n",
       "      <th>2</th>\n",
       "      <td>3</td>\n",
       "      <td>Contoso 1G MP3 Player E100 White</td>\n",
       "      <td>Contoso</td>\n",
       "      <td>White</td>\n",
       "      <td>$7.40</td>\n",
       "      <td>14.52</td>\n",
       "      <td>101</td>\n",
       "      <td>MP4&amp;MP3</td>\n",
       "      <td>1</td>\n",
       "      <td>Audio</td>\n",
       "    </tr>\n",
       "    <tr>\n",
       "      <th>3</th>\n",
       "      <td>4</td>\n",
       "      <td>Contoso 2G MP3 Player E200 Silver</td>\n",
       "      <td>Contoso</td>\n",
       "      <td>Silver</td>\n",
       "      <td>$11.00</td>\n",
       "      <td>21.57</td>\n",
       "      <td>101</td>\n",
       "      <td>MP4&amp;MP3</td>\n",
       "      <td>1</td>\n",
       "      <td>Audio</td>\n",
       "    </tr>\n",
       "    <tr>\n",
       "      <th>4</th>\n",
       "      <td>5</td>\n",
       "      <td>Contoso 2G MP3 Player E200 Red</td>\n",
       "      <td>Contoso</td>\n",
       "      <td>Red</td>\n",
       "      <td>$11.00</td>\n",
       "      <td>21.57</td>\n",
       "      <td>101</td>\n",
       "      <td>MP4&amp;MP3</td>\n",
       "      <td>1</td>\n",
       "      <td>Audio</td>\n",
       "    </tr>\n",
       "  </tbody>\n",
       "</table>\n",
       "</div>"
      ]
     },
     "execution_count": 45,
     "metadata": {},
     "output_type": "execute_result"
    }
   ],
   "execution_count": 45
  },
  {
   "metadata": {
    "ExecuteTime": {
     "end_time": "2025-03-24T19:06:20.209046Z",
     "start_time": "2025-03-24T19:06:20.202088Z"
    }
   },
   "cell_type": "code",
   "source": "products['Unit Price USD'] = products['Unit Price USD'].replace('[\\$,]', '', regex=True).astype('float64')",
   "id": "9e6c86fd4af851e3",
   "outputs": [],
   "execution_count": 44
  },
  {
   "metadata": {
    "ExecuteTime": {
     "end_time": "2025-03-24T19:34:56.464388Z",
     "start_time": "2025-03-24T19:34:56.456778Z"
    }
   },
   "cell_type": "code",
   "source": "sales.head()",
   "id": "c1bcac945a8804b",
   "outputs": [
    {
     "data": {
      "text/plain": [
       "   Order Number  Line Item Order Date Delivery Date  CustomerKey  StoreKey  \\\n",
       "0        366000          1 2016-01-01           NaT       265598        10   \n",
       "1        366001          1 2016-01-01    2016-01-13      1269051         0   \n",
       "2        366001          2 2016-01-01    2016-01-13      1269051         0   \n",
       "3        366002          1 2016-01-01    2016-01-12       266019         0   \n",
       "4        366002          2 2016-01-01    2016-01-12       266019         0   \n",
       "\n",
       "   ProductKey  Quantity Currency Code  \n",
       "0        1304         1           CAD  \n",
       "1        1048         2           USD  \n",
       "2        2007         1           USD  \n",
       "3        1106         7           CAD  \n",
       "4         373         1           CAD  "
      ],
      "text/html": [
       "<div>\n",
       "<style scoped>\n",
       "    .dataframe tbody tr th:only-of-type {\n",
       "        vertical-align: middle;\n",
       "    }\n",
       "\n",
       "    .dataframe tbody tr th {\n",
       "        vertical-align: top;\n",
       "    }\n",
       "\n",
       "    .dataframe thead th {\n",
       "        text-align: right;\n",
       "    }\n",
       "</style>\n",
       "<table border=\"1\" class=\"dataframe\">\n",
       "  <thead>\n",
       "    <tr style=\"text-align: right;\">\n",
       "      <th></th>\n",
       "      <th>Order Number</th>\n",
       "      <th>Line Item</th>\n",
       "      <th>Order Date</th>\n",
       "      <th>Delivery Date</th>\n",
       "      <th>CustomerKey</th>\n",
       "      <th>StoreKey</th>\n",
       "      <th>ProductKey</th>\n",
       "      <th>Quantity</th>\n",
       "      <th>Currency Code</th>\n",
       "    </tr>\n",
       "  </thead>\n",
       "  <tbody>\n",
       "    <tr>\n",
       "      <th>0</th>\n",
       "      <td>366000</td>\n",
       "      <td>1</td>\n",
       "      <td>2016-01-01</td>\n",
       "      <td>NaT</td>\n",
       "      <td>265598</td>\n",
       "      <td>10</td>\n",
       "      <td>1304</td>\n",
       "      <td>1</td>\n",
       "      <td>CAD</td>\n",
       "    </tr>\n",
       "    <tr>\n",
       "      <th>1</th>\n",
       "      <td>366001</td>\n",
       "      <td>1</td>\n",
       "      <td>2016-01-01</td>\n",
       "      <td>2016-01-13</td>\n",
       "      <td>1269051</td>\n",
       "      <td>0</td>\n",
       "      <td>1048</td>\n",
       "      <td>2</td>\n",
       "      <td>USD</td>\n",
       "    </tr>\n",
       "    <tr>\n",
       "      <th>2</th>\n",
       "      <td>366001</td>\n",
       "      <td>2</td>\n",
       "      <td>2016-01-01</td>\n",
       "      <td>2016-01-13</td>\n",
       "      <td>1269051</td>\n",
       "      <td>0</td>\n",
       "      <td>2007</td>\n",
       "      <td>1</td>\n",
       "      <td>USD</td>\n",
       "    </tr>\n",
       "    <tr>\n",
       "      <th>3</th>\n",
       "      <td>366002</td>\n",
       "      <td>1</td>\n",
       "      <td>2016-01-01</td>\n",
       "      <td>2016-01-12</td>\n",
       "      <td>266019</td>\n",
       "      <td>0</td>\n",
       "      <td>1106</td>\n",
       "      <td>7</td>\n",
       "      <td>CAD</td>\n",
       "    </tr>\n",
       "    <tr>\n",
       "      <th>4</th>\n",
       "      <td>366002</td>\n",
       "      <td>2</td>\n",
       "      <td>2016-01-01</td>\n",
       "      <td>2016-01-12</td>\n",
       "      <td>266019</td>\n",
       "      <td>0</td>\n",
       "      <td>373</td>\n",
       "      <td>1</td>\n",
       "      <td>CAD</td>\n",
       "    </tr>\n",
       "  </tbody>\n",
       "</table>\n",
       "</div>"
      ]
     },
     "execution_count": 69,
     "metadata": {},
     "output_type": "execute_result"
    }
   ],
   "execution_count": 69
  },
  {
   "metadata": {
    "ExecuteTime": {
     "end_time": "2025-03-24T19:34:48.573654Z",
     "start_time": "2025-03-24T19:34:48.544189Z"
    }
   },
   "cell_type": "code",
   "source": [
    "sales['Order Date'] = sales['Order Date'].astype('datetime64[ns]')\n",
    "sales['Delivery Date'] = sales['Delivery Date'].astype('datetime64[ns]')\n"
   ],
   "id": "9094665c02bd421c",
   "outputs": [],
   "execution_count": 68
  },
  {
   "metadata": {
    "ExecuteTime": {
     "end_time": "2025-03-24T18:45:04.909908Z",
     "start_time": "2025-03-24T18:45:04.902917Z"
    }
   },
   "cell_type": "code",
   "source": "stores.head()",
   "id": "a42b2b7dc429207f",
   "outputs": [
    {
     "data": {
      "text/plain": [
       "   StoreKey    Country                         State  Square Meters  Open Date\n",
       "0         1  Australia  Australian Capital Territory          595.0   1/1/2008\n",
       "1         2  Australia            Northern Territory          665.0  1/12/2008\n",
       "2         3  Australia               South Australia         2000.0   1/7/2012\n",
       "3         4  Australia                      Tasmania         2000.0   1/1/2010\n",
       "4         5  Australia                      Victoria         2000.0  12/9/2015"
      ],
      "text/html": [
       "<div>\n",
       "<style scoped>\n",
       "    .dataframe tbody tr th:only-of-type {\n",
       "        vertical-align: middle;\n",
       "    }\n",
       "\n",
       "    .dataframe tbody tr th {\n",
       "        vertical-align: top;\n",
       "    }\n",
       "\n",
       "    .dataframe thead th {\n",
       "        text-align: right;\n",
       "    }\n",
       "</style>\n",
       "<table border=\"1\" class=\"dataframe\">\n",
       "  <thead>\n",
       "    <tr style=\"text-align: right;\">\n",
       "      <th></th>\n",
       "      <th>StoreKey</th>\n",
       "      <th>Country</th>\n",
       "      <th>State</th>\n",
       "      <th>Square Meters</th>\n",
       "      <th>Open Date</th>\n",
       "    </tr>\n",
       "  </thead>\n",
       "  <tbody>\n",
       "    <tr>\n",
       "      <th>0</th>\n",
       "      <td>1</td>\n",
       "      <td>Australia</td>\n",
       "      <td>Australian Capital Territory</td>\n",
       "      <td>595.0</td>\n",
       "      <td>1/1/2008</td>\n",
       "    </tr>\n",
       "    <tr>\n",
       "      <th>1</th>\n",
       "      <td>2</td>\n",
       "      <td>Australia</td>\n",
       "      <td>Northern Territory</td>\n",
       "      <td>665.0</td>\n",
       "      <td>1/12/2008</td>\n",
       "    </tr>\n",
       "    <tr>\n",
       "      <th>2</th>\n",
       "      <td>3</td>\n",
       "      <td>Australia</td>\n",
       "      <td>South Australia</td>\n",
       "      <td>2000.0</td>\n",
       "      <td>1/7/2012</td>\n",
       "    </tr>\n",
       "    <tr>\n",
       "      <th>3</th>\n",
       "      <td>4</td>\n",
       "      <td>Australia</td>\n",
       "      <td>Tasmania</td>\n",
       "      <td>2000.0</td>\n",
       "      <td>1/1/2010</td>\n",
       "    </tr>\n",
       "    <tr>\n",
       "      <th>4</th>\n",
       "      <td>5</td>\n",
       "      <td>Australia</td>\n",
       "      <td>Victoria</td>\n",
       "      <td>2000.0</td>\n",
       "      <td>12/9/2015</td>\n",
       "    </tr>\n",
       "  </tbody>\n",
       "</table>\n",
       "</div>"
      ]
     },
     "execution_count": 10,
     "metadata": {},
     "output_type": "execute_result"
    }
   ],
   "execution_count": 10
  },
  {
   "metadata": {
    "ExecuteTime": {
     "end_time": "2025-03-24T18:45:06.899595Z",
     "start_time": "2025-03-24T18:45:06.895316Z"
    }
   },
   "cell_type": "code",
   "source": "stores['Open Date'] = stores['Open Date'].astype('datetime64[ns]')",
   "id": "2db5fdde4dbcab3a",
   "outputs": [],
   "execution_count": 11
  },
  {
   "metadata": {},
   "cell_type": "markdown",
   "source": "## Data Cleaning",
   "id": "bb8c4f8ef5e5575b"
  },
  {
   "metadata": {},
   "cell_type": "markdown",
   "source": "This step examines the shape of the datasets and identifies any irregularities or anomalies in the data.",
   "id": "7a1b4ee7e48c124c"
  },
  {
   "metadata": {},
   "cell_type": "markdown",
   "source": "### Exploring the shape of the datasets",
   "id": "84fff363af7f3f74"
  },
  {
   "metadata": {
    "ExecuteTime": {
     "end_time": "2025-03-24T18:45:09.888949Z",
     "start_time": "2025-03-24T18:45:09.885213Z"
    }
   },
   "cell_type": "code",
   "source": "customers.shape",
   "id": "43574b8c35006d07",
   "outputs": [
    {
     "data": {
      "text/plain": [
       "(15266, 10)"
      ]
     },
     "execution_count": 12,
     "metadata": {},
     "output_type": "execute_result"
    }
   ],
   "execution_count": 12
  },
  {
   "metadata": {
    "ExecuteTime": {
     "end_time": "2025-03-24T18:45:10.452317Z",
     "start_time": "2025-03-24T18:45:10.449227Z"
    }
   },
   "cell_type": "code",
   "source": "exchange_rates.shape",
   "id": "f7de660f259cf354",
   "outputs": [
    {
     "data": {
      "text/plain": [
       "(11215, 3)"
      ]
     },
     "execution_count": 13,
     "metadata": {},
     "output_type": "execute_result"
    }
   ],
   "execution_count": 13
  },
  {
   "metadata": {
    "ExecuteTime": {
     "end_time": "2025-03-24T18:45:10.806416Z",
     "start_time": "2025-03-24T18:45:10.802335Z"
    }
   },
   "cell_type": "code",
   "source": "products.shape",
   "id": "b688dfc2c8807ff1",
   "outputs": [
    {
     "data": {
      "text/plain": [
       "(2517, 10)"
      ]
     },
     "execution_count": 14,
     "metadata": {},
     "output_type": "execute_result"
    }
   ],
   "execution_count": 14
  },
  {
   "metadata": {
    "ExecuteTime": {
     "end_time": "2025-03-24T18:45:11.098827Z",
     "start_time": "2025-03-24T18:45:11.095724Z"
    }
   },
   "cell_type": "code",
   "source": "sales.shape",
   "id": "10435bfade54e568",
   "outputs": [
    {
     "data": {
      "text/plain": [
       "(62884, 9)"
      ]
     },
     "execution_count": 15,
     "metadata": {},
     "output_type": "execute_result"
    }
   ],
   "execution_count": 15
  },
  {
   "metadata": {
    "ExecuteTime": {
     "end_time": "2025-03-24T18:45:11.622922Z",
     "start_time": "2025-03-24T18:45:11.618914Z"
    }
   },
   "cell_type": "code",
   "source": "stores.shape",
   "id": "fb175f2021b4c5e3",
   "outputs": [
    {
     "data": {
      "text/plain": [
       "(67, 5)"
      ]
     },
     "execution_count": 16,
     "metadata": {},
     "output_type": "execute_result"
    }
   ],
   "execution_count": 16
  },
  {
   "metadata": {},
   "cell_type": "markdown",
   "source": "The datasets have varying shapes, with the stores dataset being the smallest in terms of observations, while the sales dataset contains the most observations.",
   "id": "536830c62810381a"
  },
  {
   "metadata": {},
   "cell_type": "markdown",
   "source": "### Exploring the number of missing values in each dataset",
   "id": "b6502f4c64356764"
  },
  {
   "metadata": {
    "ExecuteTime": {
     "end_time": "2025-03-24T18:45:14.821850Z",
     "start_time": "2025-03-24T18:45:14.801989Z"
    }
   },
   "cell_type": "code",
   "source": "(customers.isnull().sum(axis=1) > 0).sum()",
   "id": "f91cdd5c4c5db887",
   "outputs": [
    {
     "data": {
      "text/plain": [
       "10"
      ]
     },
     "execution_count": 17,
     "metadata": {},
     "output_type": "execute_result"
    }
   ],
   "execution_count": 17
  },
  {
   "metadata": {
    "ExecuteTime": {
     "end_time": "2025-03-24T18:45:15.334418Z",
     "start_time": "2025-03-24T18:45:15.329806Z"
    }
   },
   "cell_type": "code",
   "source": "(exchange_rates.isnull().sum(axis=1) > 0).sum()",
   "id": "390999f3b8cd35eb",
   "outputs": [
    {
     "data": {
      "text/plain": [
       "0"
      ]
     },
     "execution_count": 18,
     "metadata": {},
     "output_type": "execute_result"
    }
   ],
   "execution_count": 18
  },
  {
   "metadata": {
    "ExecuteTime": {
     "end_time": "2025-03-24T18:45:15.869344Z",
     "start_time": "2025-03-24T18:45:15.862866Z"
    }
   },
   "cell_type": "code",
   "source": "(products.isnull().sum(axis=1) > 0).sum()",
   "id": "139816898198bb63",
   "outputs": [
    {
     "data": {
      "text/plain": [
       "0"
      ]
     },
     "execution_count": 19,
     "metadata": {},
     "output_type": "execute_result"
    }
   ],
   "execution_count": 19
  },
  {
   "metadata": {
    "ExecuteTime": {
     "end_time": "2025-03-24T18:45:17.028088Z",
     "start_time": "2025-03-24T18:45:17.013667Z"
    }
   },
   "cell_type": "code",
   "source": "(sales.isnull().sum(axis=1) > 0).sum()",
   "id": "31559ef53a2a49c6",
   "outputs": [
    {
     "data": {
      "text/plain": [
       "49719"
      ]
     },
     "execution_count": 20,
     "metadata": {},
     "output_type": "execute_result"
    }
   ],
   "execution_count": 20
  },
  {
   "metadata": {
    "ExecuteTime": {
     "end_time": "2025-03-24T18:45:18.133038Z",
     "start_time": "2025-03-24T18:45:18.127680Z"
    }
   },
   "cell_type": "code",
   "source": "(stores.isnull().sum(axis=1) > 0).sum()",
   "id": "d3285e62ed58cb6",
   "outputs": [
    {
     "data": {
      "text/plain": [
       "1"
      ]
     },
     "execution_count": 21,
     "metadata": {},
     "output_type": "execute_result"
    }
   ],
   "execution_count": 21
  },
  {
   "metadata": {},
   "cell_type": "markdown",
   "source": "The number of rows with missing values is insignificant in most datasets and can be safely dropped. However, in the sales dataset, out of 63,000 rows, almost 50,000 contain missing values, which makes dropping rows impractical. A better approach would be to identify which variables (columns) in the sales dataset contain the most missing values and decide how to handle them, such as by imputing missing values or analyzing why they are missing.",
   "id": "3e80f140419ca99d"
  },
  {
   "metadata": {},
   "cell_type": "markdown",
   "source": "### Dealing with missing values",
   "id": "7274b33ff5a4cca0"
  },
  {
   "metadata": {
    "ExecuteTime": {
     "end_time": "2025-03-24T18:45:20.853430Z",
     "start_time": "2025-03-24T18:45:20.833779Z"
    }
   },
   "cell_type": "code",
   "source": "customers.dropna(inplace=True)",
   "id": "1233ffaebe53f824",
   "outputs": [],
   "execution_count": 22
  },
  {
   "metadata": {
    "ExecuteTime": {
     "end_time": "2025-03-24T18:45:21.233187Z",
     "start_time": "2025-03-24T18:45:21.229575Z"
    }
   },
   "cell_type": "code",
   "source": "stores.dropna(inplace=True)",
   "id": "c415d0ec44f8c54a",
   "outputs": [],
   "execution_count": 23
  },
  {
   "metadata": {
    "ExecuteTime": {
     "end_time": "2025-03-24T18:45:21.590308Z",
     "start_time": "2025-03-24T18:45:21.579476Z"
    }
   },
   "cell_type": "code",
   "source": "missing_values = sales.isnull().sum()",
   "id": "181a4353b8d8c6ba",
   "outputs": [],
   "execution_count": 24
  },
  {
   "metadata": {
    "ExecuteTime": {
     "end_time": "2025-03-24T18:45:22.398164Z",
     "start_time": "2025-03-24T18:45:22.393678Z"
    }
   },
   "cell_type": "code",
   "source": "missing_values",
   "id": "54df1d566ba372b6",
   "outputs": [
    {
     "data": {
      "text/plain": [
       "Order Number         0\n",
       "Line Item            0\n",
       "Order Date           0\n",
       "Delivery Date    49719\n",
       "CustomerKey          0\n",
       "StoreKey             0\n",
       "ProductKey           0\n",
       "Quantity             0\n",
       "Currency Code        0\n",
       "dtype: int64"
      ]
     },
     "execution_count": 25,
     "metadata": {},
     "output_type": "execute_result"
    }
   ],
   "execution_count": 25
  },
  {
   "metadata": {},
   "cell_type": "markdown",
   "source": "The sales dataset contains missing values exclusively in the Delivery Date column, where the dates weren't recorded properly. A potential solution to fill these missing values is to calculate the average delivery time in days and use this value to estimate the missing Delivery Dates by adding the calculated number of days to the corresponding Order Date. This approach will allow for reasonable estimations of the missing Delivery Dates, enabling us to fill in the missing data with a method grounded in the dataset's historical patterns.",
   "id": "dc323cd9fba84f1e"
  },
  {
   "metadata": {
    "ExecuteTime": {
     "end_time": "2025-03-24T22:39:01.583936Z",
     "start_time": "2025-03-24T22:39:01.572486Z"
    }
   },
   "cell_type": "code",
   "source": "average_delivery_time = (sales[-sales['Delivery Date'].isnull()]['Delivery Date'] - sales[-sales['Delivery Date'].isnull()]['Order Date']).mean()",
   "id": "d95625d9d80ab592",
   "outputs": [],
   "execution_count": 139
  },
  {
   "metadata": {
    "ExecuteTime": {
     "end_time": "2025-03-24T22:39:03.542351Z",
     "start_time": "2025-03-24T22:39:03.536284Z"
    }
   },
   "cell_type": "code",
   "source": "sales.loc[sales['Delivery Date'].isnull(), 'Delivery Date'] = sales.loc[sales['Delivery Date'].isnull(), 'Order Date'] + average_delivery_time",
   "id": "8b20977fbda8c8d9",
   "outputs": [],
   "execution_count": 140
  },
  {
   "metadata": {},
   "cell_type": "markdown",
   "source": "## Setting up SQLite database",
   "id": "4135f5194345adc1"
  },
  {
   "metadata": {},
   "cell_type": "markdown",
   "source": "Setting up the SQLite database and loading the required data for efficient access.",
   "id": "3406b0a4128afe2f"
  },
  {
   "metadata": {
    "ExecuteTime": {
     "end_time": "2025-03-24T23:10:10.289297Z",
     "start_time": "2025-03-24T23:10:10.280258Z"
    }
   },
   "cell_type": "code",
   "source": [
    "engine = create_engine(\"sqlite:///database/my_database.db\")\n",
    "metadata = MetaData(bind=engine)"
   ],
   "id": "c68e6239ad9a44e0",
   "outputs": [],
   "execution_count": 149
  },
  {
   "metadata": {
    "ExecuteTime": {
     "end_time": "2025-03-24T23:06:11.224063Z",
     "start_time": "2025-03-24T23:06:09.993748Z"
    }
   },
   "cell_type": "code",
   "source": [
    "# Upload the DataFrames to the SQLite database\n",
    "customers.to_sql('customers', engine, if_exists='replace', index=False)\n",
    "exchange_rates.to_sql('exchange_rates', engine, if_exists='replace', index=False)\n",
    "products.to_sql('products', engine, if_exists='replace', index=False)\n",
    "sales.to_sql('sales', engine, if_exists='replace', index=False)\n",
    "stores.to_sql('stores', engine, if_exists='replace', index=False)\n"
   ],
   "id": "9427a77a3d1b0aca",
   "outputs": [
    {
     "data": {
      "text/plain": [
       "67"
      ]
     },
     "execution_count": 148,
     "metadata": {},
     "output_type": "execute_result"
    }
   ],
   "execution_count": 148
  },
  {
   "metadata": {},
   "cell_type": "markdown",
   "source": "## Descriptive Statistics",
   "id": "322ec865bfa74f1e"
  },
  {
   "metadata": {},
   "cell_type": "markdown",
   "source": "This section offers a comprehensive overview of the dataset, including key descriptive statistics for the variables.",
   "id": "71502c94f7b5ee0e"
  },
  {
   "metadata": {
    "ExecuteTime": {
     "end_time": "2025-03-24T22:40:40.047646Z",
     "start_time": "2025-03-24T22:40:40.017782Z"
    }
   },
   "cell_type": "code",
   "source": "sales.describe()",
   "id": "8222bbe62f4f8e34",
   "outputs": [
    {
     "data": {
      "text/plain": [
       "       Order Number     Line Item   CustomerKey      StoreKey    ProductKey  \\\n",
       "count  6.288400e+04  62884.000000  6.288400e+04  62884.000000  62884.000000   \n",
       "mean   1.430905e+06      2.164207  1.180797e+06     31.802144   1125.859344   \n",
       "std    4.532963e+05      1.365170  5.859634e+05     22.978188    709.244010   \n",
       "min    3.660000e+05      1.000000  3.010000e+02      0.000000      1.000000   \n",
       "25%    1.121017e+06      1.000000  6.808580e+05      8.000000    437.000000   \n",
       "50%    1.498016e+06      2.000000  1.261200e+06     37.000000   1358.000000   \n",
       "75%    1.788010e+06      3.000000  1.686496e+06     53.000000   1650.000000   \n",
       "max    2.243032e+06      7.000000  2.099937e+06     66.000000   2517.000000   \n",
       "\n",
       "           Quantity  \n",
       "count  62884.000000  \n",
       "mean       3.144790  \n",
       "std        2.256371  \n",
       "min        1.000000  \n",
       "25%        1.000000  \n",
       "50%        2.000000  \n",
       "75%        4.000000  \n",
       "max       10.000000  "
      ],
      "text/html": [
       "<div>\n",
       "<style scoped>\n",
       "    .dataframe tbody tr th:only-of-type {\n",
       "        vertical-align: middle;\n",
       "    }\n",
       "\n",
       "    .dataframe tbody tr th {\n",
       "        vertical-align: top;\n",
       "    }\n",
       "\n",
       "    .dataframe thead th {\n",
       "        text-align: right;\n",
       "    }\n",
       "</style>\n",
       "<table border=\"1\" class=\"dataframe\">\n",
       "  <thead>\n",
       "    <tr style=\"text-align: right;\">\n",
       "      <th></th>\n",
       "      <th>Order Number</th>\n",
       "      <th>Line Item</th>\n",
       "      <th>CustomerKey</th>\n",
       "      <th>StoreKey</th>\n",
       "      <th>ProductKey</th>\n",
       "      <th>Quantity</th>\n",
       "    </tr>\n",
       "  </thead>\n",
       "  <tbody>\n",
       "    <tr>\n",
       "      <th>count</th>\n",
       "      <td>6.288400e+04</td>\n",
       "      <td>62884.000000</td>\n",
       "      <td>6.288400e+04</td>\n",
       "      <td>62884.000000</td>\n",
       "      <td>62884.000000</td>\n",
       "      <td>62884.000000</td>\n",
       "    </tr>\n",
       "    <tr>\n",
       "      <th>mean</th>\n",
       "      <td>1.430905e+06</td>\n",
       "      <td>2.164207</td>\n",
       "      <td>1.180797e+06</td>\n",
       "      <td>31.802144</td>\n",
       "      <td>1125.859344</td>\n",
       "      <td>3.144790</td>\n",
       "    </tr>\n",
       "    <tr>\n",
       "      <th>std</th>\n",
       "      <td>4.532963e+05</td>\n",
       "      <td>1.365170</td>\n",
       "      <td>5.859634e+05</td>\n",
       "      <td>22.978188</td>\n",
       "      <td>709.244010</td>\n",
       "      <td>2.256371</td>\n",
       "    </tr>\n",
       "    <tr>\n",
       "      <th>min</th>\n",
       "      <td>3.660000e+05</td>\n",
       "      <td>1.000000</td>\n",
       "      <td>3.010000e+02</td>\n",
       "      <td>0.000000</td>\n",
       "      <td>1.000000</td>\n",
       "      <td>1.000000</td>\n",
       "    </tr>\n",
       "    <tr>\n",
       "      <th>25%</th>\n",
       "      <td>1.121017e+06</td>\n",
       "      <td>1.000000</td>\n",
       "      <td>6.808580e+05</td>\n",
       "      <td>8.000000</td>\n",
       "      <td>437.000000</td>\n",
       "      <td>1.000000</td>\n",
       "    </tr>\n",
       "    <tr>\n",
       "      <th>50%</th>\n",
       "      <td>1.498016e+06</td>\n",
       "      <td>2.000000</td>\n",
       "      <td>1.261200e+06</td>\n",
       "      <td>37.000000</td>\n",
       "      <td>1358.000000</td>\n",
       "      <td>2.000000</td>\n",
       "    </tr>\n",
       "    <tr>\n",
       "      <th>75%</th>\n",
       "      <td>1.788010e+06</td>\n",
       "      <td>3.000000</td>\n",
       "      <td>1.686496e+06</td>\n",
       "      <td>53.000000</td>\n",
       "      <td>1650.000000</td>\n",
       "      <td>4.000000</td>\n",
       "    </tr>\n",
       "    <tr>\n",
       "      <th>max</th>\n",
       "      <td>2.243032e+06</td>\n",
       "      <td>7.000000</td>\n",
       "      <td>2.099937e+06</td>\n",
       "      <td>66.000000</td>\n",
       "      <td>2517.000000</td>\n",
       "      <td>10.000000</td>\n",
       "    </tr>\n",
       "  </tbody>\n",
       "</table>\n",
       "</div>"
      ]
     },
     "execution_count": 144,
     "metadata": {},
     "output_type": "execute_result"
    }
   ],
   "execution_count": 144
  },
  {
   "metadata": {
    "ExecuteTime": {
     "end_time": "2025-03-24T22:38:15.113689Z",
     "start_time": "2025-03-24T22:38:15.092427Z"
    }
   },
   "cell_type": "code",
   "source": "\n",
   "id": "59c2153a7828e475",
   "outputs": [],
   "execution_count": 136
  }
 ],
 "metadata": {
  "kernelspec": {
   "display_name": "Python 3",
   "language": "python",
   "name": "python3"
  },
  "language_info": {
   "codemirror_mode": {
    "name": "ipython",
    "version": 2
   },
   "file_extension": ".py",
   "mimetype": "text/x-python",
   "name": "python",
   "nbconvert_exporter": "python",
   "pygments_lexer": "ipython2",
   "version": "2.7.6"
  }
 },
 "nbformat": 4,
 "nbformat_minor": 5
}
